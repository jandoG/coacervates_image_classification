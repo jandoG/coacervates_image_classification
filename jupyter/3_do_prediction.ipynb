{
 "cells": [
  {
   "cell_type": "markdown",
   "id": "eb48130b",
   "metadata": {},
   "source": [
    "## 3. Read images, predict and save to specific folders\n",
    "Author: Gayathri Nadar, SCF MPI-CBG </br>\n",
    "Date: 2021-10-04 </br>\n",
    "For: Rudrarup </br>\n",
    "Lab: Tang </br> \n",
    "\n",
    "### About \n",
    "- This notebook is a part of 3 notebooks in sequence:\n",
    "    * 1_read_images\n",
    "    * 2_train_save_classifier \n",
    "    * 3_do_prediction \n",
    "- This notebook **reads images from path specified by user and applies a trained classifier model on it to make a predicition.**\n",
    "- A new folder called **predicitions** is created outside the folder specified by user. \n",
    "- A table is created to save the output. The table contains three columns: `Path`, `Image name`, `Predicted class`\n",
    "\n",
    "### Preparations\n",
    "Data:\n",
    "\n",
    "- **Add all images to be classified into ONE folder**. It could be on the project space!\n",
    "- **If folder with images is on the project space, mount the server space `tanglab-tds` on your laptop** before running this notebook. \n",
    "\n",
    "Python:\n",
    "\n",
    "- **Keep this jupyter notebook and `functions.py` together!**\n",
    "- Set up python and jupyter, and conda env. Check document 'Readme_Python_installation'.\n",
    "- **When you open this notebook. Click on Kernel > Change kernal and change it to 'imageclassification'**\n",
    "\n",
    "### General Jupyter Notebook Usage: The basics\n",
    "- The notebook is executed cell-by-cell.\n",
    "- The active/current cell is visible by being surrounded by a blue or green box.\n",
    "- Green box: edit mode. Blue box: view mode. To exit the edit mode: press Esc\n",
    "- To run a cell: Press Shift+Enter (runs the cell and automatically advances to the next cell)\n",
    "- Auto-complete is supported (convenient when you e.g. type a folder location): start typing, then press Tab key.\n",
    "- When you are completely finished: Click on Kernel->Shutdown and close all notebooks related tabs.\n",
    "- **If you want to do a fresh start of the analysis: click on Kernel -> Restart and Clear Output**. Do this if your notebook seems to have hung. \n",
    "\n",
    "### Usage of this notebook:\n",
    "- Start at the top.\n",
    "- Run cells step-by-step.\n",
    "- For cells titled **\\\"User Input\\\"**. Adjust the content (data folder etc.) before running them.\n",
    "- Note: if you accidentally ran it already, simply click on it, adjust the content, and run it again.\n",
    "\n",
    "### Current workflow \n",
    "User Input:\n",
    "\n",
    "- Folder containing all images to be classified. \n",
    "- Folder containing the classifier file. \n",
    "- Name of classifier with extension (in case multiple present)\n",
    "\n",
    "Steps:\n",
    "\n",
    "- Images and image names are read and added to a list.\n",
    "- Classifier is loaded.\n",
    "- For every image in list, features are computed and on this the classifier is applied to make a prediction.\n",
    "- A table is created to save the output. The table contains three columns: `Path`, `Image name`, `Predicted class`\n",
    "\n",
    "### Output \n",
    "Found in the folder `predictions`\n"
   ]
  },
  {
   "cell_type": "markdown",
   "id": "8bbd705b",
   "metadata": {},
   "source": [
    "### Prep: Always run this cell"
   ]
  },
  {
   "cell_type": "code",
   "execution_count": 1,
   "id": "c257d103",
   "metadata": {},
   "outputs": [],
   "source": [
    "import numpy as np \n",
    "import os\n",
    "import matplotlib.pyplot as plt\n",
    "import pickle\n",
    "import skimage \n",
    "from skimage import data, segmentation, feature, future\n",
    "from functools import partial\n",
    "from skimage.transform import resize\n",
    "from pathlib import Path\n",
    "from functions import * \n",
    "import tifffile\n",
    "import shutil\n",
    "import csv, datetime"
   ]
  },
  {
   "cell_type": "markdown",
   "id": "d901151a",
   "metadata": {},
   "source": [
    "### User Input \n",
    "\n",
    "1. Enter the path to the folder which contains images you want to classify. ***Note: ALL THE 'TIF' FILES FROM THIS PATH WITHIN FOLDERS AND SUBFOLDERS WILL BE READ AND CLASSIFIED!!***. Make sure to arrange your data properly!\n",
    "2. Enter the path to the folder which contains classifier file (.pkl file)\n",
    "3. If `display_predictions` is set to `True` the image and its prediction will be displayed. Caution: might be slow!"
   ]
  },
  {
   "cell_type": "code",
   "execution_count": 6,
   "id": "21580806",
   "metadata": {},
   "outputs": [],
   "source": [
    "# enter values here \n",
    "path_images = \"../data/testing1/\"\n",
    "path_classifier = \"../data/classifierfile/\"\n",
    "classifier_name_with_extension = \"classifier_final.pkl\"\n",
    "display_predictions = False \n",
    "\n",
    "# nothing to do from here\n",
    "shape = (512, 512)\n",
    "\n",
    "# folder to save prediction output \n",
    "predictions_output = os.path.join(os.path.dirname(os.path.dirname(path_images)), \"predictions\")\n",
    "\n",
    "if not os.path.exists(predictions_output):\n",
    "    os.makedirs(predictions_output)"
   ]
  },
  {
   "cell_type": "markdown",
   "id": "0b22e374",
   "metadata": {},
   "source": [
    "### Prep: Always run this cell"
   ]
  },
  {
   "cell_type": "code",
   "execution_count": 7,
   "id": "b292cd72",
   "metadata": {},
   "outputs": [],
   "source": [
    "# load classifier\n",
    "with open(os.path.join(path_classifier, classifier_name_with_extension), 'rb') as fid:\n",
    "    randomforest_classifier = pickle.load(fid)"
   ]
  },
  {
   "cell_type": "markdown",
   "id": "f4412447",
   "metadata": {},
   "source": [
    "### Read images, apply loaded model, predict"
   ]
  },
  {
   "cell_type": "code",
   "execution_count": 8,
   "id": "bedd2c3d",
   "metadata": {},
   "outputs": [
    {
     "name": "stdout",
     "output_type": "stream",
     "text": [
      "Starting predictions on ALL images in folder:  ../data/testing1/\n",
      "This might take time...\n",
      "\n",
      "Predicting image:  ../data/testing1/001RB201016A-pR-ATP-00h_G06.d2_T0001F001L01A02Z04C01.tif\n",
      "Prediction: aggregates \n",
      "\n",
      "Predicting image:  ../data/testing1/005RB210727A-PolyAr-NADHbcst_E05.c3_T0001F001L01A01Z01C01.tif\n",
      "Prediction: droplet \n",
      "\n",
      "Predicting image:  ../data/testing1/001RB201016A-pR-ATP-00h_G06.d2_T0001F001L01A02Z05C01.tif\n",
      "Prediction: aggregates \n",
      "\n",
      "Predicting image:  ../data/testing1/001RB201016A-pR-ATP-00h_G06.d2_T0001F001L01A02Z03C01.tif\n",
      "Prediction: aggregates \n",
      "\n",
      "Done\n"
     ]
    }
   ],
   "source": [
    "imagenames = []\n",
    "imagepaths = []\n",
    "predictions = []\n",
    "\n",
    "print(\"Starting predictions on ALL images in folder: \", path_images)\n",
    "print(\"This might take time...\\n\")\n",
    "\n",
    "for root, dirs, files in os.walk(path_images):\n",
    "    for f in files:\n",
    "        if f.endswith(\".tif\"):\n",
    "            filepath = os.path.join(root, f)\n",
    "            img = tifffile.imread(filepath)\n",
    "            \n",
    "            # reshape image, get features\n",
    "            image_reshaped = cv2.resize(img, dsize=shape, interpolation=cv2.INTER_CUBIC)\n",
    "#             feature_img = getMultiscaleFeature(image_reshaped)\n",
    "            \n",
    "            fv_hu_moments = getMomentsFeature(image_reshaped)\n",
    "            fv_haralick   = getHaralickFeature(image_reshaped)\n",
    "            fv_histogram  = getHistogramFeature(image_reshaped)\n",
    "            feature_img = np.hstack([fv_histogram, fv_haralick, fv_hu_moments])\n",
    "            \n",
    "            # apply model and predict\n",
    "            # shape = (1, image shape * feature vec size)\n",
    "            print(\"Predicting image: \", filepath)\n",
    "            prediction = randomforest_classifier.predict(feature_img.reshape(1, -1))[0]\n",
    "            print(\"Prediction:\" , prediction, \"\\n\")\n",
    "            \n",
    "            if display_predictions:\n",
    "                plt.figure(figsize=(2, 2))\n",
    "                plt.imshow(img, interpolation='nearest', cmap='gray')\n",
    "                plt.title(f'Prediction: {prediction}')\n",
    "                plt.show()\n",
    "                print(\"\\n\")\n",
    "    \n",
    "            imagenames.append(os.path.basename(filepath))\n",
    "            imagepaths.append(root)\n",
    "            predictions.append(prediction)\n",
    "            del img \n",
    "            del feature_img\n",
    "            \n",
    "print(\"Done\")"
   ]
  },
  {
   "cell_type": "markdown",
   "id": "2b820ddd",
   "metadata": {},
   "source": [
    "### Save CSV file with predicitions\n",
    "\n",
    "- Columns: `Path`, `Image name`, `Predicted class`\n",
    "- Output found in folder `predictions` outside of the folder containing images for predicitions (set by user).\n"
   ]
  },
  {
   "cell_type": "code",
   "execution_count": 9,
   "id": "36472a5e",
   "metadata": {},
   "outputs": [
    {
     "name": "stdout",
     "output_type": "stream",
     "text": [
      "DONE\n"
     ]
    }
   ],
   "source": [
    "ts = datetime.datetime.now().strftime(\"%Y%m%d_%H%M\")\n",
    "\n",
    "out_f = open(join(predictions_output, ts + \"_prediction.csv\"), 'w')\n",
    "\n",
    "# set tab as delimiter and add header\n",
    "w = csv.writer(out_f, delimiter='\\t')  \n",
    "w.writerow([\"Path\", \"Image name\", \"Predicted class\"])\n",
    "\n",
    "for p, n, out in zip(imagepaths, imagenames, predictions): \n",
    "    row_val = [p, n, out]\n",
    "    w.writerow(row_val)\n",
    "\n",
    "out_f.close()\n",
    "    \n",
    "print(\"DONE\")"
   ]
  },
  {
   "cell_type": "code",
   "execution_count": null,
   "id": "3247f9ad",
   "metadata": {},
   "outputs": [],
   "source": []
  }
 ],
 "metadata": {
  "kernelspec": {
   "display_name": "Python 3",
   "language": "python",
   "name": "python3"
  },
  "language_info": {
   "codemirror_mode": {
    "name": "ipython",
    "version": 3
   },
   "file_extension": ".py",
   "mimetype": "text/x-python",
   "name": "python",
   "nbconvert_exporter": "python",
   "pygments_lexer": "ipython3",
   "version": "3.7.10"
  }
 },
 "nbformat": 4,
 "nbformat_minor": 5
}
