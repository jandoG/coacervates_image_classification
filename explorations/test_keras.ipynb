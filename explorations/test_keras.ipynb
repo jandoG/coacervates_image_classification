{
 "cells": [
  {
   "cell_type": "code",
   "execution_count": 5,
   "id": "competitive-fortune",
   "metadata": {},
   "outputs": [],
   "source": [
    "import numpy as np \n",
    "import pandas as pd \n",
    "import os\n",
    "import matplotlib.pyplot as plt\n",
    "import cv2\n",
    "from pathlib import Path\n",
    "import tifffile \n",
    "\n",
    "from keras.utils import to_categorical\n",
    "from keras.layers import Dense,Conv2D,Flatten,MaxPool2D,Dropout\n",
    "from keras.models import Sequential\n",
    "from keras.callbacks import EarlyStopping\n",
    "\n",
    "from sklearn.model_selection import train_test_split\n",
    "from skimage.transform import resize\n",
    "\n",
    "np.random.seed(1)"
   ]
  },
  {
   "cell_type": "code",
   "execution_count": 6,
   "id": "necessary-static",
   "metadata": {},
   "outputs": [],
   "source": [
    "train_images = [] \n",
    "train_labels0 = [] \n",
    "shape = (512, 512)\n",
    "\n",
    "train_path = '../data/Training/'\n",
    "\n",
    "for root, dirs, files in os.walk(train_path):\n",
    "    for f in files:\n",
    "        if f.endswith(\".tif\"):\n",
    "            filepath = os.path.join(root, f)\n",
    "            classlabel = Path(filepath).parents[1]\n",
    "          \n",
    "            img = tifffile.imread(filepath)\n",
    "            image_reshaped = resize(img, shape, preserve_range=True)\n",
    "            \n",
    "            train_images.append(image_reshaped)\n",
    "            train_labels0.append(classlabel)        "
   ]
  },
  {
   "cell_type": "code",
   "execution_count": 7,
   "id": "opening-tradition",
   "metadata": {},
   "outputs": [],
   "source": [
    "# Converting labels into One Hot encoded sparse matrix\n",
    "train_labels = pd.get_dummies(train_labels0).values\n",
    "\n",
    "# Converting train_images to array\n",
    "train_images = np.array(train_images)\n",
    "train_images = train_images.reshape(len(train_images), shape[0], shape[1], 1)\n",
    "\n",
    "# Splitting Training data into train and validation dataset\n",
    "x_train, x_val, y_train, y_val = train_test_split(train_images, train_labels, test_size=0.2, random_state=1)"
   ]
  },
  {
   "cell_type": "code",
   "execution_count": 13,
   "id": "metropolitan-collector",
   "metadata": {},
   "outputs": [
    {
     "name": "stdout",
     "output_type": "stream",
     "text": [
      "48\n",
      "(38, 512, 512, 1)\n",
      "(10, 512, 512, 1)\n",
      "(38, 3)\n",
      "(10, 3)\n"
     ]
    }
   ],
   "source": [
    "print(len(train_images))\n",
    "print(x_train.shape)\n",
    "print(x_val.shape)\n",
    "print(y_train.shape)\n",
    "print(y_val.shape)"
   ]
  },
  {
   "cell_type": "code",
   "execution_count": 12,
   "id": "roman-residence",
   "metadata": {},
   "outputs": [
    {
     "name": "stdout",
     "output_type": "stream",
     "text": [
      "8\n",
      "[0 0 1]\n"
     ]
    },
    {
     "data": {
      "text/plain": [
       "<matplotlib.image.AxesImage at 0x7fd4938df350>"
      ]
     },
     "execution_count": 12,
     "metadata": {},
     "output_type": "execute_result"
    }
   ],
   "source": [
    "# Visualizing Training data\n",
    "indx = np.random.randint(0, len(train_images))\n",
    "\n",
    "print(indx)\n",
    "print(train_labels[indx])\n",
    "plt.imshow(train_images[indx], cmap=\"gray\")"
   ]
  },
  {
   "cell_type": "code",
   "execution_count": 104,
   "id": "worldwide-referral",
   "metadata": {},
   "outputs": [],
   "source": [
    "# Creating a Sequential model\n",
    "model= Sequential()\n",
    "model.add(Conv2D(kernel_size=(3,3), filters=32, activation='tanh', input_shape=(512,512,1,)))\n",
    "model.add(Conv2D(filters=30,kernel_size = (3,3),activation='tanh'))\n",
    "model.add(MaxPool2D(2,2))\n",
    "model.add(Conv2D(filters=30,kernel_size = (3,3),activation='tanh'))\n",
    "model.add(MaxPool2D(2,2))\n",
    "model.add(Conv2D(filters=30,kernel_size = (3,3),activation='tanh'))\n",
    "\n",
    "model.add(Flatten())\n",
    "\n",
    "model.add(Dense(20,activation='relu'))\n",
    "model.add(Dense(15,activation='relu'))\n",
    "model.add(Dense(3,activation = 'softmax'))\n",
    "    \n",
    "model.compile(\n",
    "              loss='categorical_crossentropy', \n",
    "              metrics=['acc'],\n",
    "              optimizer='adam'\n",
    "             )\n",
    "\n",
    "es = EarlyStopping(monitor='val_loss', mode='min', verbose=1, patience = 5)"
   ]
  },
  {
   "cell_type": "code",
   "execution_count": 105,
   "id": "powerful-brain",
   "metadata": {},
   "outputs": [
    {
     "name": "stdout",
     "output_type": "stream",
     "text": [
      "Train on 38 samples, validate on 10 samples\n",
      "Epoch 1/10\n",
      "38/38 [==============================] - 16s 431ms/step - loss: 8.7601 - acc: 0.2895 - val_loss: 12.8945 - val_acc: 0.2000\n",
      "Epoch 2/10\n",
      "38/38 [==============================] - 17s 435ms/step - loss: 11.8765 - acc: 0.2632 - val_loss: 12.8945 - val_acc: 0.2000\n",
      "Epoch 3/10\n",
      "38/38 [==============================] - 16s 433ms/step - loss: 11.8765 - acc: 0.2632 - val_loss: 12.8945 - val_acc: 0.2000\n",
      "Epoch 4/10\n",
      "38/38 [==============================] - 17s 444ms/step - loss: 11.8765 - acc: 0.2632 - val_loss: 12.8945 - val_acc: 0.2000\n",
      "Epoch 5/10\n",
      "38/38 [==============================] - 17s 458ms/step - loss: 11.8765 - acc: 0.2632 - val_loss: 12.8945 - val_acc: 0.2000\n",
      "Epoch 6/10\n",
      "38/38 [==============================] - 18s 461ms/step - loss: 11.8765 - acc: 0.2632 - val_loss: 12.8945 - val_acc: 0.2000\n",
      "Epoch 00006: early stopping\n"
     ]
    }
   ],
   "source": [
    "# Training the model\n",
    "history = model.fit(x_train,y_train,epochs=10,batch_size=8,validation_data=(x_val,y_val), callbacks=[es])"
   ]
  },
  {
   "cell_type": "code",
   "execution_count": 106,
   "id": "seven-british",
   "metadata": {},
   "outputs": [
    {
     "data": {
      "image/png": "[encoded data removed]",
      "text/plain": [
       "<Figure size 432x288 with 1 Axes>"
      ]
     },
     "metadata": {
      "needs_background": "light"
     },
     "output_type": "display_data"
    }
   ],
   "source": [
    "# summarize history for loss\n",
    "plt.plot(history.history['loss'])\n",
    "plt.plot(history.history['val_loss'])\n",
    "plt.title('model loss')\n",
    "plt.ylabel('loss')\n",
    "plt.xlabel('epoch')\n",
    "plt.legend(['train', 'test'], loc='upper left')\n",
    "plt.show()"
   ]
  },
  {
   "cell_type": "code",
   "execution_count": 107,
   "id": "finnish-matthew",
   "metadata": {},
   "outputs": [
    {
     "data": {
      "image/png": "[encoded data removed]",
      "text/plain": [
       "<Figure size 432x288 with 1 Axes>"
      ]
     },
     "metadata": {
      "needs_background": "light"
     },
     "output_type": "display_data"
    }
   ],
   "source": [
    "# summarize history for accuracy\n",
    "plt.plot(history.history['acc'])\n",
    "plt.plot(history.history['val_acc'])\n",
    "plt.title('model accuracy')\n",
    "plt.ylabel('accuracy')\n",
    "plt.xlabel('epoch')\n",
    "plt.legend(['train', 'test'], loc='upper left')\n",
    "plt.show()"
   ]
  },
  {
   "cell_type": "code",
   "execution_count": null,
   "id": "spectacular-stevens",
   "metadata": {},
   "outputs": [],
   "source": []
  }
 ],
 "metadata": {
  "kernelspec": {
   "display_name": "Python 3",
   "language": "python",
   "name": "python3"
  },
  "language_info": {
   "codemirror_mode": {
    "name": "ipython",
    "version": 3
   },
   "file_extension": ".py",
   "mimetype": "text/x-python",
   "name": "python",
   "nbconvert_exporter": "python",
   "pygments_lexer": "ipython3",
   "version": "3.7.10"
  }
 },
 "nbformat": 4,
 "nbformat_minor": 5
}
